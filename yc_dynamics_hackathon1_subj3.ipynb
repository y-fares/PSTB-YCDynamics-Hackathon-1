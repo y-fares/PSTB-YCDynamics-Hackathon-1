{
 "cells": [
  {
   "cell_type": "markdown",
   "id": "26072a79",
   "metadata": {},
   "source": [
    "---\n",
    "---\n",
    "\n",
    "**PSTB Bootcamp - Hackathon 1 - Subject 3**: *Exploring Employee Attrition and Performance in a Corporate Environment (IBM HR Analytics)*\n",
    "\n",
    "\n",
    "---\n",
    "\n",
    "\n",
    "**Date** : 23/10/2025\n",
    "\n",
    "\n",
    "---\n",
    "\n",
    "\n",
    "**Team**: YC Dynamics (Yacine Fares, Clément Philbert)\n",
    "\n",
    "---\n",
    "---"
   ]
  },
  {
   "cell_type": "markdown",
   "id": "880f922e",
   "metadata": {},
   "source": [
    "# 1 ) Data Loading and Preprocessing"
   ]
  },
  {
   "cell_type": "markdown",
   "id": "f36c71d4",
   "metadata": {},
   "source": [
    "## a. Downloading the IBM HR Analytics dataset and extracting the CSV"
   ]
  },
  {
   "cell_type": "code",
   "execution_count": null,
   "id": "a5076cd4",
   "metadata": {},
   "outputs": [
    {
     "name": "stdout",
     "output_type": "stream",
     "text": [
      "File downloaded successfully\n"
     ]
    }
   ],
   "source": [
    "## Downloading the IBM HR Analytics dataset using the requests module (version 2.32.5)\n",
    "\n",
    "# Importing the requests library\n",
    "import requests\n",
    "url = 'https://github.com/devtlv/Datasets-DA-Bootcamp-2-/raw/refs/heads/main/Week%208%20-%20Hackathon%20&%20AB%20Testing/W8D1%20-%20Hackathon/IBM%20HR%20Analytics%20Employee%20Attrition%20&%20Performance.zip'\n",
    "\n",
    "response = requests.get(url)\n",
    "file_Path = 'IBM_HR_Analytics_Employee_Attrition_Performance.zip'\n",
    "\n",
    "if response.status_code == 200:\n",
    "    with open(file_Path, 'wb') as file:\n",
    "        file.write(response.content)\n",
    "    print('File downloaded successfully')\n",
    "else:\n",
    "    print('Failed to download file')"
   ]
  },
  {
   "cell_type": "code",
   "execution_count": null,
   "id": "949861c8",
   "metadata": {},
   "outputs": [
    {
     "name": "stdout",
     "output_type": "stream",
     "text": [
      "Extracted IBM HR Analytics Employee Attrition & Performance/IBM HR Analytics Employee Attrition & Performance/WA_Fn-UseC_-HR-Employee-Attrition.csv → dataset/WA_Fn-UseC_-HR-Employee-Attrition.csv\n"
     ]
    }
   ],
   "source": [
    "## Extracting the IBM HR Analytics csv file from the archive and moving it to a \"dataset\" folder using\n",
    "## the zipfile and os modules (dropping unnecessary folder cascading from the zip).\n",
    "\n",
    "# Importing libraries\n",
    "import zipfile\n",
    "import os\n",
    "\n",
    "zip_path = \"IBM_HR_Analytics_Employee_Attrition_Performance.zip\"\n",
    "file_to_extract = \"IBM HR Analytics Employee Attrition & Performance/IBM HR Analytics Employee Attrition & Performance/WA_Fn-UseC_-HR-Employee-Attrition.csv\"   # the exact internal path\n",
    "output_dir = \"dataset\"\n",
    "\n",
    "# Making sure the output folder exists\n",
    "os.makedirs(output_dir, exist_ok=True)\n",
    "\n",
    "with zipfile.ZipFile(zip_path, 'r') as zip_ref:\n",
    "    with zip_ref.open(file_to_extract) as source_file:\n",
    "        # Get only the filename (drop folders)\n",
    "        filename = os.path.basename(file_to_extract)\n",
    "        output_path = os.path.join(output_dir, filename)\n",
    "\n",
    "        # Write file contents\n",
    "        with open(output_path, 'wb') as target_file:\n",
    "            target_file.write(source_file.read())\n",
    "\n",
    "print(f\"Extracted {file_to_extract} → {output_path}\")"
   ]
  },
  {
   "cell_type": "markdown",
   "id": "6fdf9c8e",
   "metadata": {},
   "source": [
    "## b. Loading the csv dataset into a dataframe with pandas"
   ]
  },
  {
   "cell_type": "code",
   "execution_count": 2,
   "id": "5cffc6f6",
   "metadata": {},
   "outputs": [],
   "source": [
    "## Loading the IBM HR Analytics dataset in a dataframe\n",
    "\n",
    "# Importing the pandas library\n",
    "import pandas as pd\n",
    "\n",
    "# Creating the dataframe from the csv\n",
    "df = pd.read_csv(\"dataset/WA_Fn-UseC_-HR-Employee-Attrition.csv\")"
   ]
  },
  {
   "cell_type": "markdown",
   "id": "e593f7fe",
   "metadata": {},
   "source": [
    "## c. Initial high-level data exploration"
   ]
  },
  {
   "cell_type": "code",
   "execution_count": 3,
   "id": "66741654",
   "metadata": {},
   "outputs": [
    {
     "data": {
      "text/html": [
       "<div>\n",
       "<style scoped>\n",
       "    .dataframe tbody tr th:only-of-type {\n",
       "        vertical-align: middle;\n",
       "    }\n",
       "\n",
       "    .dataframe tbody tr th {\n",
       "        vertical-align: top;\n",
       "    }\n",
       "\n",
       "    .dataframe thead th {\n",
       "        text-align: right;\n",
       "    }\n",
       "</style>\n",
       "<table border=\"1\" class=\"dataframe\">\n",
       "  <thead>\n",
       "    <tr style=\"text-align: right;\">\n",
       "      <th></th>\n",
       "      <th>Age</th>\n",
       "      <th>Attrition</th>\n",
       "      <th>BusinessTravel</th>\n",
       "      <th>DailyRate</th>\n",
       "      <th>Department</th>\n",
       "      <th>DistanceFromHome</th>\n",
       "      <th>Education</th>\n",
       "      <th>EducationField</th>\n",
       "      <th>EmployeeCount</th>\n",
       "      <th>EmployeeNumber</th>\n",
       "      <th>...</th>\n",
       "      <th>RelationshipSatisfaction</th>\n",
       "      <th>StandardHours</th>\n",
       "      <th>StockOptionLevel</th>\n",
       "      <th>TotalWorkingYears</th>\n",
       "      <th>TrainingTimesLastYear</th>\n",
       "      <th>WorkLifeBalance</th>\n",
       "      <th>YearsAtCompany</th>\n",
       "      <th>YearsInCurrentRole</th>\n",
       "      <th>YearsSinceLastPromotion</th>\n",
       "      <th>YearsWithCurrManager</th>\n",
       "    </tr>\n",
       "  </thead>\n",
       "  <tbody>\n",
       "    <tr>\n",
       "      <th>0</th>\n",
       "      <td>41</td>\n",
       "      <td>Yes</td>\n",
       "      <td>Travel_Rarely</td>\n",
       "      <td>1102</td>\n",
       "      <td>Sales</td>\n",
       "      <td>1</td>\n",
       "      <td>2</td>\n",
       "      <td>Life Sciences</td>\n",
       "      <td>1</td>\n",
       "      <td>1</td>\n",
       "      <td>...</td>\n",
       "      <td>1</td>\n",
       "      <td>80</td>\n",
       "      <td>0</td>\n",
       "      <td>8</td>\n",
       "      <td>0</td>\n",
       "      <td>1</td>\n",
       "      <td>6</td>\n",
       "      <td>4</td>\n",
       "      <td>0</td>\n",
       "      <td>5</td>\n",
       "    </tr>\n",
       "    <tr>\n",
       "      <th>1</th>\n",
       "      <td>49</td>\n",
       "      <td>No</td>\n",
       "      <td>Travel_Frequently</td>\n",
       "      <td>279</td>\n",
       "      <td>Research &amp; Development</td>\n",
       "      <td>8</td>\n",
       "      <td>1</td>\n",
       "      <td>Life Sciences</td>\n",
       "      <td>1</td>\n",
       "      <td>2</td>\n",
       "      <td>...</td>\n",
       "      <td>4</td>\n",
       "      <td>80</td>\n",
       "      <td>1</td>\n",
       "      <td>10</td>\n",
       "      <td>3</td>\n",
       "      <td>3</td>\n",
       "      <td>10</td>\n",
       "      <td>7</td>\n",
       "      <td>1</td>\n",
       "      <td>7</td>\n",
       "    </tr>\n",
       "    <tr>\n",
       "      <th>2</th>\n",
       "      <td>37</td>\n",
       "      <td>Yes</td>\n",
       "      <td>Travel_Rarely</td>\n",
       "      <td>1373</td>\n",
       "      <td>Research &amp; Development</td>\n",
       "      <td>2</td>\n",
       "      <td>2</td>\n",
       "      <td>Other</td>\n",
       "      <td>1</td>\n",
       "      <td>4</td>\n",
       "      <td>...</td>\n",
       "      <td>2</td>\n",
       "      <td>80</td>\n",
       "      <td>0</td>\n",
       "      <td>7</td>\n",
       "      <td>3</td>\n",
       "      <td>3</td>\n",
       "      <td>0</td>\n",
       "      <td>0</td>\n",
       "      <td>0</td>\n",
       "      <td>0</td>\n",
       "    </tr>\n",
       "    <tr>\n",
       "      <th>3</th>\n",
       "      <td>33</td>\n",
       "      <td>No</td>\n",
       "      <td>Travel_Frequently</td>\n",
       "      <td>1392</td>\n",
       "      <td>Research &amp; Development</td>\n",
       "      <td>3</td>\n",
       "      <td>4</td>\n",
       "      <td>Life Sciences</td>\n",
       "      <td>1</td>\n",
       "      <td>5</td>\n",
       "      <td>...</td>\n",
       "      <td>3</td>\n",
       "      <td>80</td>\n",
       "      <td>0</td>\n",
       "      <td>8</td>\n",
       "      <td>3</td>\n",
       "      <td>3</td>\n",
       "      <td>8</td>\n",
       "      <td>7</td>\n",
       "      <td>3</td>\n",
       "      <td>0</td>\n",
       "    </tr>\n",
       "    <tr>\n",
       "      <th>4</th>\n",
       "      <td>27</td>\n",
       "      <td>No</td>\n",
       "      <td>Travel_Rarely</td>\n",
       "      <td>591</td>\n",
       "      <td>Research &amp; Development</td>\n",
       "      <td>2</td>\n",
       "      <td>1</td>\n",
       "      <td>Medical</td>\n",
       "      <td>1</td>\n",
       "      <td>7</td>\n",
       "      <td>...</td>\n",
       "      <td>4</td>\n",
       "      <td>80</td>\n",
       "      <td>1</td>\n",
       "      <td>6</td>\n",
       "      <td>3</td>\n",
       "      <td>3</td>\n",
       "      <td>2</td>\n",
       "      <td>2</td>\n",
       "      <td>2</td>\n",
       "      <td>2</td>\n",
       "    </tr>\n",
       "  </tbody>\n",
       "</table>\n",
       "<p>5 rows × 35 columns</p>\n",
       "</div>"
      ],
      "text/plain": [
       "   Age Attrition     BusinessTravel  DailyRate              Department  \\\n",
       "0   41       Yes      Travel_Rarely       1102                   Sales   \n",
       "1   49        No  Travel_Frequently        279  Research & Development   \n",
       "2   37       Yes      Travel_Rarely       1373  Research & Development   \n",
       "3   33        No  Travel_Frequently       1392  Research & Development   \n",
       "4   27        No      Travel_Rarely        591  Research & Development   \n",
       "\n",
       "   DistanceFromHome  Education EducationField  EmployeeCount  EmployeeNumber  \\\n",
       "0                 1          2  Life Sciences              1               1   \n",
       "1                 8          1  Life Sciences              1               2   \n",
       "2                 2          2          Other              1               4   \n",
       "3                 3          4  Life Sciences              1               5   \n",
       "4                 2          1        Medical              1               7   \n",
       "\n",
       "   ...  RelationshipSatisfaction StandardHours  StockOptionLevel  \\\n",
       "0  ...                         1            80                 0   \n",
       "1  ...                         4            80                 1   \n",
       "2  ...                         2            80                 0   \n",
       "3  ...                         3            80                 0   \n",
       "4  ...                         4            80                 1   \n",
       "\n",
       "   TotalWorkingYears  TrainingTimesLastYear WorkLifeBalance  YearsAtCompany  \\\n",
       "0                  8                      0               1               6   \n",
       "1                 10                      3               3              10   \n",
       "2                  7                      3               3               0   \n",
       "3                  8                      3               3               8   \n",
       "4                  6                      3               3               2   \n",
       "\n",
       "  YearsInCurrentRole  YearsSinceLastPromotion  YearsWithCurrManager  \n",
       "0                  4                        0                     5  \n",
       "1                  7                        1                     7  \n",
       "2                  0                        0                     0  \n",
       "3                  7                        3                     0  \n",
       "4                  2                        2                     2  \n",
       "\n",
       "[5 rows x 35 columns]"
      ]
     },
     "execution_count": 3,
     "metadata": {},
     "output_type": "execute_result"
    }
   ],
   "source": [
    "# Checking first five entries of the dataset with .head()\n",
    "df.head()"
   ]
  },
  {
   "cell_type": "code",
   "execution_count": 10,
   "id": "e6b5cc27",
   "metadata": {},
   "outputs": [
    {
     "name": "stdout",
     "output_type": "stream",
     "text": [
      "<class 'pandas.core.frame.DataFrame'>\n",
      "RangeIndex: 1470 entries, 0 to 1469\n",
      "Data columns (total 35 columns):\n",
      " #   Column                    Non-Null Count  Dtype \n",
      "---  ------                    --------------  ----- \n",
      " 0   Age                       1470 non-null   int64 \n",
      " 1   Attrition                 1470 non-null   object\n",
      " 2   BusinessTravel            1470 non-null   object\n",
      " 3   DailyRate                 1470 non-null   int64 \n",
      " 4   Department                1470 non-null   object\n",
      " 5   DistanceFromHome          1470 non-null   int64 \n",
      " 6   Education                 1470 non-null   int64 \n",
      " 7   EducationField            1470 non-null   object\n",
      " 8   EmployeeCount             1470 non-null   int64 \n",
      " 9   EmployeeNumber            1470 non-null   int64 \n",
      " 10  EnvironmentSatisfaction   1470 non-null   int64 \n",
      " 11  Gender                    1470 non-null   object\n",
      " 12  HourlyRate                1470 non-null   int64 \n",
      " 13  JobInvolvement            1470 non-null   int64 \n",
      " 14  JobLevel                  1470 non-null   int64 \n",
      " 15  JobRole                   1470 non-null   object\n",
      " 16  JobSatisfaction           1470 non-null   int64 \n",
      " 17  MaritalStatus             1470 non-null   object\n",
      " 18  MonthlyIncome             1470 non-null   int64 \n",
      " 19  MonthlyRate               1470 non-null   int64 \n",
      " 20  NumCompaniesWorked        1470 non-null   int64 \n",
      " 21  Over18                    1470 non-null   object\n",
      " 22  OverTime                  1470 non-null   object\n",
      " 23  PercentSalaryHike         1470 non-null   int64 \n",
      " 24  PerformanceRating         1470 non-null   int64 \n",
      " 25  RelationshipSatisfaction  1470 non-null   int64 \n",
      " 26  StandardHours             1470 non-null   int64 \n",
      " 27  StockOptionLevel          1470 non-null   int64 \n",
      " 28  TotalWorkingYears         1470 non-null   int64 \n",
      " 29  TrainingTimesLastYear     1470 non-null   int64 \n",
      " 30  WorkLifeBalance           1470 non-null   int64 \n",
      " 31  YearsAtCompany            1470 non-null   int64 \n",
      " 32  YearsInCurrentRole        1470 non-null   int64 \n",
      " 33  YearsSinceLastPromotion   1470 non-null   int64 \n",
      " 34  YearsWithCurrManager      1470 non-null   int64 \n",
      "dtypes: int64(26), object(9)\n",
      "memory usage: 402.1+ KB\n"
     ]
    }
   ],
   "source": [
    "# Checking structure and datatypes with .info()\n",
    "df.info()"
   ]
  },
  {
   "cell_type": "markdown",
   "id": "c78b2082",
   "metadata": {},
   "source": [
    "> 👉 The dataset has 1470 entries and 35 columns"
   ]
  },
  {
   "cell_type": "markdown",
   "id": "caae2dbe",
   "metadata": {},
   "source": [
    "> 👉 Conclusions and recommendations regarding data transformation to perform:"
   ]
  },
  {
   "cell_type": "markdown",
   "id": "2bb790f7",
   "metadata": {},
   "source": [
    "| Columns currently int64                                                                                                                                                                                                | Current dtype | Suggested dtype                                | Reason                                                                                                              |\n",
    "| -------------------------------------------------------------------------------------------------------------------------------------------------------------------------------------------------------- | ------------- | ---------------------------------------------- | ------------------------------------------------------------------------------------------------------------------- |\n",
    "| `Age`                                                                                                                                                                                                    | int64         | ✅ keep as int64                                | Continuous numeric variable.                                                                                        |\n",
    "| `DailyRate`, `HourlyRate`, `MonthlyIncome`, `MonthlyRate`                                                                                                                                                | int64         | ✅ keep as int64                                | Continuous numeric values.                                                                                          |\n",
    "| `DistanceFromHome`, `PercentSalaryHike`, `YearsAtCompany`, `YearsInCurrentRole`, etc.                                                                                                                    | int64         | ✅ keep as int64                                | Continuous or count-based — fine as numeric.                                                                        |\n",
    "| `Education`, `EnvironmentSatisfaction`, `JobInvolvement`, `JobLevel`, `JobSatisfaction`, `PerformanceRating`, `RelationshipSatisfaction`, `StockOptionLevel`, `TrainingTimesLastYear`, `WorkLifeBalance` | int64         | ⚠️ **convert to categorical (pd.Categorical)** | These are *ordinal* variables — coded as 1–4 or 1–5. Converting to categorical helps with readability and analysis. |\n",
    "| `EmployeeCount`, `StandardHours`                                                                                                                                                                         | int64         | ⚠️ **drop or convert to constant**             | Usually constant across all rows (e.g., 1 or 80). They add no value — verify and drop if true.                      |\n",
    "| `EmployeeNumber`                                                                                                                                                                                         | int64         | ⚠️ **treat as object/string (ID)**             | It’s an identifier, not numeric data — shouldn’t be used in math.                                                   |\n"
   ]
  },
  {
   "cell_type": "markdown",
   "id": "d4e3c15c",
   "metadata": {},
   "source": [
    "| Columns currently object                                                                                             | Current dtype | Suggested dtype                       | Reason                                                                          |\n",
    "| -------------------------------------------------------------------------------------------------- | ------------- | ------------------------------------- | ------------------------------------------------------------------------------- |\n",
    "| `Attrition`                                                                                        | object        | ⚠️ **convert to boolean or category** | Typically “Yes” / “No”. Convert with `map({'Yes': 1, 'No': 0})` or to category. |\n",
    "| `BusinessTravel`, `Department`, `EducationField`, `Gender`, `JobRole`, `MaritalStatus`, `OverTime` | object        | ⚠️ **convert to categorical**         | Nominal categorical variables — better memory and efficiency.                   |\n",
    "| `Over18`                                                                                           | object        | ⚠️ **drop or set as constant**        | Usually all \"Y\". If so, drop (no information value).                            |\n"
   ]
  },
  {
   "cell_type": "markdown",
   "id": "df554fbd",
   "metadata": {},
   "source": [
    "## d. Looking for missing values or duplicates"
   ]
  },
  {
   "cell_type": "code",
   "execution_count": null,
   "id": "db8fa703",
   "metadata": {},
   "outputs": [
    {
     "name": "stdout",
     "output_type": "stream",
     "text": [
      "Age                         0\n",
      "Attrition                   0\n",
      "BusinessTravel              0\n",
      "DailyRate                   0\n",
      "Department                  0\n",
      "DistanceFromHome            0\n",
      "Education                   0\n",
      "EducationField              0\n",
      "EmployeeCount               0\n",
      "EmployeeNumber              0\n",
      "EnvironmentSatisfaction     0\n",
      "Gender                      0\n",
      "HourlyRate                  0\n",
      "JobInvolvement              0\n",
      "JobLevel                    0\n",
      "JobRole                     0\n",
      "JobSatisfaction             0\n",
      "MaritalStatus               0\n",
      "MonthlyIncome               0\n",
      "MonthlyRate                 0\n",
      "NumCompaniesWorked          0\n",
      "Over18                      0\n",
      "OverTime                    0\n",
      "PercentSalaryHike           0\n",
      "PerformanceRating           0\n",
      "RelationshipSatisfaction    0\n",
      "StandardHours               0\n",
      "StockOptionLevel            0\n",
      "TotalWorkingYears           0\n",
      "TrainingTimesLastYear       0\n",
      "WorkLifeBalance             0\n",
      "YearsAtCompany              0\n",
      "YearsInCurrentRole          0\n",
      "YearsSinceLastPromotion     0\n",
      "YearsWithCurrManager        0\n",
      "dtype: int64\n",
      "\n",
      "\n",
      "Number of missing data in datateset:  0\n"
     ]
    }
   ],
   "source": [
    "# Looking for potential missing values in the dataframe (returning the sum of null values per column)\n",
    "print(df.isnull().sum())\n",
    "print(f\"\\n\\nNumber of missing data in datateset: \", df.isnull().sum().sum())"
   ]
  },
  {
   "cell_type": "markdown",
   "id": "4973f25a",
   "metadata": {},
   "source": [
    "> 👉 There are no missing values in the dataset"
   ]
  },
  {
   "cell_type": "code",
   "execution_count": 23,
   "id": "5d14bbb0",
   "metadata": {},
   "outputs": [
    {
     "data": {
      "text/plain": [
       "np.int64(0)"
      ]
     },
     "execution_count": 23,
     "metadata": {},
     "output_type": "execute_result"
    }
   ],
   "source": [
    "# Looking for potential duplicates in the dataframe (returning the count as an integer)\n",
    "df.duplicated().sum()"
   ]
  },
  {
   "cell_type": "markdown",
   "id": "e0e414d0",
   "metadata": {},
   "source": [
    "> 👉 There are no duplicates in the dataset (returned value is 0)"
   ]
  },
  {
   "cell_type": "markdown",
   "id": "c2ea1b93",
   "metadata": {},
   "source": [
    "## e. Converting and cleaning the dataset before analysis"
   ]
  },
  {
   "cell_type": "code",
   "execution_count": null,
   "id": "92169d1f",
   "metadata": {},
   "outputs": [],
   "source": []
  },
  {
   "cell_type": "markdown",
   "id": "cca18885",
   "metadata": {},
   "source": [
    "# 2 ) Exploratory Data Analysis (EDA)"
   ]
  },
  {
   "cell_type": "markdown",
   "id": "d94001cf",
   "metadata": {},
   "source": [
    "# 3 ) Correlation and Trend Analysis"
   ]
  },
  {
   "cell_type": "markdown",
   "id": "76f134e3",
   "metadata": {},
   "source": [
    "# 4 ) Visualization"
   ]
  },
  {
   "cell_type": "markdown",
   "id": "c0a71d3b",
   "metadata": {},
   "source": [
    "# 5 ) Summary of findings"
   ]
  },
  {
   "cell_type": "markdown",
   "id": "1eda465c",
   "metadata": {},
   "source": [
    "# 6 ) Retention Strategy Development"
   ]
  }
 ],
 "metadata": {
  "kernelspec": {
   "display_name": "virtu_hackathon1",
   "language": "python",
   "name": "python3"
  },
  "language_info": {
   "codemirror_mode": {
    "name": "ipython",
    "version": 3
   },
   "file_extension": ".py",
   "mimetype": "text/x-python",
   "name": "python",
   "nbconvert_exporter": "python",
   "pygments_lexer": "ipython3",
   "version": "3.13.7"
  }
 },
 "nbformat": 4,
 "nbformat_minor": 5
}
